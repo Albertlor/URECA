{
 "cells": [
  {
   "cell_type": "code",
   "execution_count": 2,
   "id": "24e7e56c",
   "metadata": {},
   "outputs": [],
   "source": [
    "import pandas as pd\n",
    "import seaborn as sb\n",
    "import matplotlib.pyplot as plt"
   ]
  },
  {
   "cell_type": "code",
   "execution_count": 3,
   "id": "10ba8872",
   "metadata": {},
   "outputs": [
    {
     "data": {
      "text/html": [
       "<div>\n",
       "<style scoped>\n",
       "    .dataframe tbody tr th:only-of-type {\n",
       "        vertical-align: middle;\n",
       "    }\n",
       "\n",
       "    .dataframe tbody tr th {\n",
       "        vertical-align: top;\n",
       "    }\n",
       "\n",
       "    .dataframe thead th {\n",
       "        text-align: right;\n",
       "    }\n",
       "</style>\n",
       "<table border=\"1\" class=\"dataframe\">\n",
       "  <thead>\n",
       "    <tr style=\"text-align: right;\">\n",
       "      <th></th>\n",
       "      <th>BOTTOM_TORSO_1</th>\n",
       "      <th>BOTTOM_TORSO_2</th>\n",
       "      <th>BOTTOM_TORSO_3</th>\n",
       "      <th>BOTTOM_TORSO_4</th>\n",
       "      <th>BOTTOM_TORSO_5</th>\n",
       "      <th>BOTTOM_TORSO_6</th>\n",
       "      <th>BOTTOM_TORSO_7</th>\n",
       "      <th>BOTTOM_TORSO_8</th>\n",
       "      <th>BOTTOM_TORSO_9</th>\n",
       "      <th>BOTTOM_TORSO_10</th>\n",
       "      <th>...</th>\n",
       "      <th>BOTTOM_TORSO_53</th>\n",
       "      <th>BOTTOM_TORSO_54</th>\n",
       "      <th>BOTTOM_TORSO_55</th>\n",
       "      <th>BOTTOM_TORSO_56</th>\n",
       "      <th>BOTTOM_TORSO_57</th>\n",
       "      <th>BOTTOM_TORSO_58</th>\n",
       "      <th>BOTTOM_TORSO_59</th>\n",
       "      <th>BOTTOM_TORSO_60</th>\n",
       "      <th>BOTTOM_TORSO_61</th>\n",
       "      <th>BOTTOM_TORSO_62</th>\n",
       "    </tr>\n",
       "  </thead>\n",
       "  <tbody>\n",
       "    <tr>\n",
       "      <th>0</th>\n",
       "      <td>-4.938902e-07</td>\n",
       "      <td>-3.603855e-07</td>\n",
       "      <td>-2.464476e-07</td>\n",
       "      <td>-3.396817e-07</td>\n",
       "      <td>-5.177990e-07</td>\n",
       "      <td>-6.288592e-07</td>\n",
       "      <td>-8.981733e-07</td>\n",
       "      <td>-1.036198e-06</td>\n",
       "      <td>-1.220571e-06</td>\n",
       "      <td>-1.303368e-06</td>\n",
       "      <td>...</td>\n",
       "      <td>-1.531356e-06</td>\n",
       "      <td>-1.726594e-06</td>\n",
       "      <td>-1.953144e-06</td>\n",
       "      <td>-1.427645e-06</td>\n",
       "      <td>-8.007410e-07</td>\n",
       "      <td>-2.538418e-07</td>\n",
       "      <td>3.952664e-09</td>\n",
       "      <td>-3.971218e-08</td>\n",
       "      <td>-1.558856e-07</td>\n",
       "      <td>-1.869921e-07</td>\n",
       "    </tr>\n",
       "    <tr>\n",
       "      <th>1</th>\n",
       "      <td>-1.332701e-05</td>\n",
       "      <td>-1.368261e-05</td>\n",
       "      <td>-1.403695e-05</td>\n",
       "      <td>-1.434637e-05</td>\n",
       "      <td>-1.462498e-05</td>\n",
       "      <td>-1.496477e-05</td>\n",
       "      <td>-1.555159e-05</td>\n",
       "      <td>-1.582561e-05</td>\n",
       "      <td>-1.611419e-05</td>\n",
       "      <td>-1.626224e-05</td>\n",
       "      <td>...</td>\n",
       "      <td>-1.517934e-05</td>\n",
       "      <td>-1.499774e-05</td>\n",
       "      <td>-1.462696e-05</td>\n",
       "      <td>-1.392534e-05</td>\n",
       "      <td>-1.331560e-05</td>\n",
       "      <td>-1.323709e-05</td>\n",
       "      <td>-1.352350e-05</td>\n",
       "      <td>-1.365787e-05</td>\n",
       "      <td>-1.350288e-05</td>\n",
       "      <td>-1.341883e-05</td>\n",
       "    </tr>\n",
       "    <tr>\n",
       "      <th>2</th>\n",
       "      <td>6.218453e-07</td>\n",
       "      <td>5.676652e-07</td>\n",
       "      <td>4.799058e-07</td>\n",
       "      <td>4.491220e-07</td>\n",
       "      <td>4.692188e-07</td>\n",
       "      <td>5.684502e-07</td>\n",
       "      <td>5.596726e-07</td>\n",
       "      <td>7.012274e-07</td>\n",
       "      <td>7.198497e-07</td>\n",
       "      <td>7.531482e-07</td>\n",
       "      <td>...</td>\n",
       "      <td>-8.675367e-07</td>\n",
       "      <td>-7.893690e-07</td>\n",
       "      <td>-4.837392e-07</td>\n",
       "      <td>-1.498198e-07</td>\n",
       "      <td>-1.240738e-07</td>\n",
       "      <td>-2.161349e-07</td>\n",
       "      <td>-2.827007e-07</td>\n",
       "      <td>-3.407334e-07</td>\n",
       "      <td>-3.174438e-07</td>\n",
       "      <td>-3.487197e-07</td>\n",
       "    </tr>\n",
       "  </tbody>\n",
       "</table>\n",
       "<p>3 rows × 62 columns</p>\n",
       "</div>"
      ],
      "text/plain": [
       "   BOTTOM_TORSO_1  BOTTOM_TORSO_2  BOTTOM_TORSO_3  BOTTOM_TORSO_4  \\\n",
       "0   -4.938902e-07   -3.603855e-07   -2.464476e-07   -3.396817e-07   \n",
       "1   -1.332701e-05   -1.368261e-05   -1.403695e-05   -1.434637e-05   \n",
       "2    6.218453e-07    5.676652e-07    4.799058e-07    4.491220e-07   \n",
       "\n",
       "   BOTTOM_TORSO_5  BOTTOM_TORSO_6  BOTTOM_TORSO_7  BOTTOM_TORSO_8  \\\n",
       "0   -5.177990e-07   -6.288592e-07   -8.981733e-07   -1.036198e-06   \n",
       "1   -1.462498e-05   -1.496477e-05   -1.555159e-05   -1.582561e-05   \n",
       "2    4.692188e-07    5.684502e-07    5.596726e-07    7.012274e-07   \n",
       "\n",
       "   BOTTOM_TORSO_9  BOTTOM_TORSO_10  ...  BOTTOM_TORSO_53  BOTTOM_TORSO_54  \\\n",
       "0   -1.220571e-06    -1.303368e-06  ...    -1.531356e-06    -1.726594e-06   \n",
       "1   -1.611419e-05    -1.626224e-05  ...    -1.517934e-05    -1.499774e-05   \n",
       "2    7.198497e-07     7.531482e-07  ...    -8.675367e-07    -7.893690e-07   \n",
       "\n",
       "   BOTTOM_TORSO_55  BOTTOM_TORSO_56  BOTTOM_TORSO_57  BOTTOM_TORSO_58  \\\n",
       "0    -1.953144e-06    -1.427645e-06    -8.007410e-07    -2.538418e-07   \n",
       "1    -1.462696e-05    -1.392534e-05    -1.331560e-05    -1.323709e-05   \n",
       "2    -4.837392e-07    -1.498198e-07    -1.240738e-07    -2.161349e-07   \n",
       "\n",
       "   BOTTOM_TORSO_59  BOTTOM_TORSO_60  BOTTOM_TORSO_61  BOTTOM_TORSO_62  \n",
       "0     3.952664e-09    -3.971218e-08    -1.558856e-07    -1.869921e-07  \n",
       "1    -1.352350e-05    -1.365787e-05    -1.350288e-05    -1.341883e-05  \n",
       "2    -2.827007e-07    -3.407334e-07    -3.174438e-07    -3.487197e-07  \n",
       "\n",
       "[3 rows x 62 columns]"
      ]
     },
     "execution_count": 3,
     "metadata": {},
     "output_type": "execute_result"
    }
   ],
   "source": [
    "df = pd.read_csv('low_back_dict_json.csv')\n",
    "df"
   ]
  },
  {
   "cell_type": "code",
   "execution_count": 4,
   "id": "3de6145d",
   "metadata": {},
   "outputs": [],
   "source": [
    "row1 = df.iloc[0]\n",
    "row1_df = pd.DataFrame(data=row1)"
   ]
  },
  {
   "cell_type": "code",
   "execution_count": 5,
   "id": "93bb6dcc",
   "metadata": {},
   "outputs": [],
   "source": [
    "row2 = df.iloc[1]\n",
    "row2_df = pd.DataFrame(data=row2)"
   ]
  },
  {
   "cell_type": "code",
   "execution_count": 6,
   "id": "7c49d0b5",
   "metadata": {},
   "outputs": [],
   "source": [
    "row3 = df.iloc[2]\n",
    "row3_df = pd.DataFrame(data=row3)"
   ]
  },
  {
   "cell_type": "code",
   "execution_count": 7,
   "id": "c7e046fc",
   "metadata": {},
   "outputs": [
    {
     "data": {
      "image/png": "[encoded data removed]",
      "text/plain": [
       "<Figure size 1080x360 with 3 Axes>"
      ]
     },
     "metadata": {
      "needs_background": "light"
     },
     "output_type": "display_data"
    }
   ],
   "source": [
    "rows = [row1_df, row2_df, row3_df]\n",
    "\n",
    "fig, ax = plt.subplots(1, 3, figsize=(15, 5))\n",
    "\n",
    "count=0\n",
    "for row in rows:\n",
    "    ax[count].plot(row)\n",
    "    ax[count].set_title(f'Row {count+1}')\n",
    "    count += 1"
   ]
  },
  {
   "cell_type": "code",
   "execution_count": null,
   "id": "0ba9cd72",
   "metadata": {},
   "outputs": [],
   "source": []
  }
 ],
 "metadata": {
  "kernelspec": {
   "display_name": "Python 3 (ipykernel)",
   "language": "python",
   "name": "python3"
  },
  "language_info": {
   "codemirror_mode": {
    "name": "ipython",
    "version": 3
   },
   "file_extension": ".py",
   "mimetype": "text/x-python",
   "name": "python",
   "nbconvert_exporter": "python",
   "pygments_lexer": "ipython3",
   "version": "3.9.7"
  }
 },
 "nbformat": 4,
 "nbformat_minor": 5
}
